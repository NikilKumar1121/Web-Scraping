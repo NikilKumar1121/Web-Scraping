{
 "cells": [
  {
   "cell_type": "code",
   "execution_count": 1,
   "metadata": {},
   "outputs": [],
   "source": [
    "import requests\n",
    "from bs4 import BeautifulSoup"
   ]
  },
  {
   "cell_type": "code",
   "execution_count": 2,
   "metadata": {},
   "outputs": [],
   "source": [
    "url = 'https://en.wikipedia.org/wiki/List_of_Game_of_Thrones_episodes'\n",
    "page = requests.get(url)"
   ]
  },
  {
   "cell_type": "code",
   "execution_count": 3,
   "metadata": {},
   "outputs": [
    {
     "data": {
      "text/plain": [
       "200"
      ]
     },
     "execution_count": 3,
     "metadata": {},
     "output_type": "execute_result"
    }
   ],
   "source": [
    "page.status_code"
   ]
  },
  {
   "cell_type": "code",
   "execution_count": 4,
   "metadata": {},
   "outputs": [],
   "source": [
    "soup = BeautifulSoup(page.content,'html.parser')\n",
    "#print(soup.prettify())"
   ]
  },
  {
   "cell_type": "code",
   "execution_count": 5,
   "metadata": {},
   "outputs": [],
   "source": [
    "tables = soup.find_all('table',class_ =\"wikitable plainrowheaders wikiepisodetable\")[:8]\n",
    "#tables"
   ]
  },
  {
   "cell_type": "code",
   "execution_count": 6,
   "metadata": {},
   "outputs": [],
   "source": [
    "episodes =[]\n",
    "\n",
    "for table in tables:\n",
    "    rows = table.find_all('tr')[1:]\n",
    "    for item in rows:\n",
    "        episode_no = item.find_all('th')[0].get_text()\n",
    "        title = item.find_all('td')[1].get_text()\n",
    "        director = item.find_all('td')[2].get_text()\n",
    "        writter = item.find_all('td')[3].get_text()\n",
    "        on_air_date = item.find_all('td')[4].find_all('span')[1].get_text()\n",
    "        episodes_dict = {'episode':episode_no,'title':title,'director':director,'writter':writter,'on_air_date':on_air_date}\n",
    "        episodes.append(episodes_dict)"
   ]
  },
  {
   "cell_type": "code",
   "execution_count": 7,
   "metadata": {},
   "outputs": [],
   "source": [
    "import pandas as pd"
   ]
  },
  {
   "cell_type": "code",
   "execution_count": 8,
   "metadata": {},
   "outputs": [
    {
     "data": {
      "text/html": [
       "<div>\n",
       "<style scoped>\n",
       "    .dataframe tbody tr th:only-of-type {\n",
       "        vertical-align: middle;\n",
       "    }\n",
       "\n",
       "    .dataframe tbody tr th {\n",
       "        vertical-align: top;\n",
       "    }\n",
       "\n",
       "    .dataframe thead th {\n",
       "        text-align: right;\n",
       "    }\n",
       "</style>\n",
       "<table border=\"1\" class=\"dataframe\">\n",
       "  <thead>\n",
       "    <tr style=\"text-align: right;\">\n",
       "      <th></th>\n",
       "      <th>episode</th>\n",
       "      <th>title</th>\n",
       "      <th>director</th>\n",
       "      <th>writter</th>\n",
       "      <th>on_air_date</th>\n",
       "    </tr>\n",
       "  </thead>\n",
       "  <tbody>\n",
       "    <tr>\n",
       "      <th>0</th>\n",
       "      <td>1</td>\n",
       "      <td>\"Winter Is Coming\"</td>\n",
       "      <td>Tim Van Patten</td>\n",
       "      <td>David Benioff &amp; D. B. Weiss</td>\n",
       "      <td>2011-04-17</td>\n",
       "    </tr>\n",
       "    <tr>\n",
       "      <th>1</th>\n",
       "      <td>2</td>\n",
       "      <td>\"The Kingsroad\"</td>\n",
       "      <td>Tim Van Patten</td>\n",
       "      <td>David Benioff &amp; D. B. Weiss</td>\n",
       "      <td>2011-04-24</td>\n",
       "    </tr>\n",
       "    <tr>\n",
       "      <th>2</th>\n",
       "      <td>3</td>\n",
       "      <td>\"Lord Snow\"</td>\n",
       "      <td>Brian Kirk</td>\n",
       "      <td>David Benioff &amp; D. B. Weiss</td>\n",
       "      <td>2011-05-01</td>\n",
       "    </tr>\n",
       "    <tr>\n",
       "      <th>3</th>\n",
       "      <td>4</td>\n",
       "      <td>\"Cripples, Bastards, and Broken Things\"</td>\n",
       "      <td>Brian Kirk</td>\n",
       "      <td>Bryan Cogman</td>\n",
       "      <td>2011-05-08</td>\n",
       "    </tr>\n",
       "    <tr>\n",
       "      <th>4</th>\n",
       "      <td>5</td>\n",
       "      <td>\"The Wolf and the Lion\"</td>\n",
       "      <td>Brian Kirk</td>\n",
       "      <td>David Benioff &amp; D. B. Weiss</td>\n",
       "      <td>2011-05-15</td>\n",
       "    </tr>\n",
       "  </tbody>\n",
       "</table>\n",
       "</div>"
      ],
      "text/plain": [
       "  episode                                    title        director  \\\n",
       "0       1                       \"Winter Is Coming\"  Tim Van Patten   \n",
       "1       2                          \"The Kingsroad\"  Tim Van Patten   \n",
       "2       3                              \"Lord Snow\"      Brian Kirk   \n",
       "3       4  \"Cripples, Bastards, and Broken Things\"      Brian Kirk   \n",
       "4       5                  \"The Wolf and the Lion\"      Brian Kirk   \n",
       "\n",
       "                       writter on_air_date  \n",
       "0  David Benioff & D. B. Weiss  2011-04-17  \n",
       "1  David Benioff & D. B. Weiss  2011-04-24  \n",
       "2  David Benioff & D. B. Weiss  2011-05-01  \n",
       "3                 Bryan Cogman  2011-05-08  \n",
       "4  David Benioff & D. B. Weiss  2011-05-15  "
      ]
     },
     "execution_count": 8,
     "metadata": {},
     "output_type": "execute_result"
    }
   ],
   "source": [
    "df = pd.DataFrame(data=episodes,columns=['episode','title','director','writter','on_air_date'])\n",
    "df.head()"
   ]
  },
  {
   "cell_type": "code",
   "execution_count": 9,
   "metadata": {},
   "outputs": [
    {
     "data": {
      "text/html": [
       "<div>\n",
       "<style scoped>\n",
       "    .dataframe tbody tr th:only-of-type {\n",
       "        vertical-align: middle;\n",
       "    }\n",
       "\n",
       "    .dataframe tbody tr th {\n",
       "        vertical-align: top;\n",
       "    }\n",
       "\n",
       "    .dataframe thead th {\n",
       "        text-align: right;\n",
       "    }\n",
       "</style>\n",
       "<table border=\"1\" class=\"dataframe\">\n",
       "  <thead>\n",
       "    <tr style=\"text-align: right;\">\n",
       "      <th></th>\n",
       "      <th>episode</th>\n",
       "      <th>title</th>\n",
       "      <th>director</th>\n",
       "      <th>writter</th>\n",
       "      <th>on_air_date</th>\n",
       "    </tr>\n",
       "  </thead>\n",
       "  <tbody>\n",
       "    <tr>\n",
       "      <th>68</th>\n",
       "      <td>69</td>\n",
       "      <td>\"A Knight of the Seven Kingdoms\"</td>\n",
       "      <td>David Nutter</td>\n",
       "      <td>Bryan Cogman</td>\n",
       "      <td>2019-04-21</td>\n",
       "    </tr>\n",
       "    <tr>\n",
       "      <th>69</th>\n",
       "      <td>70</td>\n",
       "      <td>\"The Long Night\"</td>\n",
       "      <td>Miguel Sapochnik</td>\n",
       "      <td>David Benioff &amp; D. B. Weiss</td>\n",
       "      <td>2019-04-28</td>\n",
       "    </tr>\n",
       "    <tr>\n",
       "      <th>70</th>\n",
       "      <td>71</td>\n",
       "      <td>\"The Last of the Starks\"</td>\n",
       "      <td>David Nutter</td>\n",
       "      <td>David Benioff &amp; D. B. Weiss</td>\n",
       "      <td>2019-05-05</td>\n",
       "    </tr>\n",
       "    <tr>\n",
       "      <th>71</th>\n",
       "      <td>72</td>\n",
       "      <td>\"The Bells\"</td>\n",
       "      <td>Miguel Sapochnik</td>\n",
       "      <td>David Benioff &amp; D. B. Weiss</td>\n",
       "      <td>2019-05-12</td>\n",
       "    </tr>\n",
       "    <tr>\n",
       "      <th>72</th>\n",
       "      <td>73</td>\n",
       "      <td>\"The Iron Throne\"</td>\n",
       "      <td>David Benioff &amp; D. B. Weiss</td>\n",
       "      <td>David Benioff &amp; D. B. Weiss</td>\n",
       "      <td>2019-05-19</td>\n",
       "    </tr>\n",
       "  </tbody>\n",
       "</table>\n",
       "</div>"
      ],
      "text/plain": [
       "   episode                             title                     director  \\\n",
       "68      69  \"A Knight of the Seven Kingdoms\"                 David Nutter   \n",
       "69      70                  \"The Long Night\"             Miguel Sapochnik   \n",
       "70      71          \"The Last of the Starks\"                 David Nutter   \n",
       "71      72                       \"The Bells\"             Miguel Sapochnik   \n",
       "72      73                 \"The Iron Throne\"  David Benioff & D. B. Weiss   \n",
       "\n",
       "                        writter on_air_date  \n",
       "68                 Bryan Cogman  2019-04-21  \n",
       "69  David Benioff & D. B. Weiss  2019-04-28  \n",
       "70  David Benioff & D. B. Weiss  2019-05-05  \n",
       "71  David Benioff & D. B. Weiss  2019-05-12  \n",
       "72  David Benioff & D. B. Weiss  2019-05-19  "
      ]
     },
     "execution_count": 9,
     "metadata": {},
     "output_type": "execute_result"
    }
   ],
   "source": [
    "df.tail()"
   ]
  },
  {
   "cell_type": "code",
   "execution_count": null,
   "metadata": {},
   "outputs": [],
   "source": []
  }
 ],
 "metadata": {
  "kernelspec": {
   "display_name": "Python 3",
   "language": "python",
   "name": "python3"
  },
  "language_info": {
   "codemirror_mode": {
    "name": "ipython",
    "version": 3
   },
   "file_extension": ".py",
   "mimetype": "text/x-python",
   "name": "python",
   "nbconvert_exporter": "python",
   "pygments_lexer": "ipython3",
   "version": "3.7.3"
  }
 },
 "nbformat": 4,
 "nbformat_minor": 2
}
